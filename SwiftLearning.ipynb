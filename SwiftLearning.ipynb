{
  "nbformat": 4,
  "nbformat_minor": 0,
  "metadata": {
    "colab": {
      "name": "SwiftLearning.ipynb",
      "version": "0.3.2",
      "provenance": [],
      "collapsed_sections": [],
      "include_colab_link": true
    },
    "kernelspec": {
      "name": "python3",
      "display_name": "Python 3"
    }
  },
  "cells": [
    {
      "cell_type": "markdown",
      "metadata": {
        "id": "view-in-github",
        "colab_type": "text"
      },
      "source": [
        "<a href=\"https://colab.research.google.com/github/SureshWho/SwiftForTensorFlow/blob/master/SwiftLearning.ipynb\" target=\"_parent\"><img src=\"https://colab.research.google.com/assets/colab-badge.svg\" alt=\"Open In Colab\"/></a>"
      ]
    },
    {
      "metadata": {
        "id": "vstWzIjPesBF",
        "colab_type": "text"
      },
      "cell_type": "markdown",
      "source": [
        "# Swift for TensorFlow Learning\n",
        "\n",
        "Swift is an open source language, originally developed by Chris Lattner. Generally Python based TensorFlow models are re-implemented in C/C++ for production version, to achive performance. So, the models have to be re-writen again for production. Swift is trying to address this issue, we should be able to write experimentation as well as the production code in Swift."
      ]
    },
    {
      "metadata": {
        "id": "oFG5Z_rSee6w",
        "colab_type": "code",
        "colab": {}
      },
      "cell_type": "code",
      "source": [
        ""
      ],
      "execution_count": 0,
      "outputs": []
    }
  ]
}